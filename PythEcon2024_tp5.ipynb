{
 "cells": [
  {
   "cell_type": "markdown",
   "id": "514c6d58",
   "metadata": {},
   "source": [
    "## Curso Python para Economistas\n",
    "### Trabajo Práctico Nº 5"
   ]
  },
  {
   "cell_type": "markdown",
   "id": "83f79c40",
   "metadata": {},
   "source": [
    "### Fecha de entrega:\n",
    "Lunes 28/11 a las 23:59 hs"
   ]
  },
  {
   "cell_type": "markdown",
   "id": "eb682638",
   "metadata": {},
   "source": [
    "### Modalidad de entrega y trabajo\n",
    "- Este TP es **individual**.\n",
    "- Un repositorio **privado** debe ser creado en GitHub para el TP, y dar acceso a los 5 profesores. Los nombres de usuario son: `belenmichel`, `rbonazzola`,  `Queeno11`, `agoszulli` y `pilarch`.\n",
    "- Recuerden comentar cada commit con un mensaje específico (esto es simplemente una buena práctica, pero no los evaluaremos por esto; sólo el mensaje final es obligatorio, como indica el siguiente inciso).  \n",
    "- Cuando hayan hecho el último commit, copien la URL para clonar su repositorio y péguenla en [este Google Sheet](https://docs.google.com/spreadsheets/d/1byFOKyV7UnBuPuF9X2JWFVOUZX36b2_CEDw9ColP7VQ/edit?usp=sharing), en la hoja del TP5. Al ser un repositorio privado, solo los colaboradores habilitados podrán clonarlo.\n",
    "- Al finalizar el trabajo práctico deben hacer un último commit y push en su repositorio de GitHub con el mensaje `\"Entrega final del TP5\"`. Antes de la fecha y hora de entrega pueden hacer cuantos cambios quieran en el repositorio, pero luego de la hora de corte no deben hacer más cambios. Si un commit con el mensaje anterior se realiza luego de la hora de entrega, se supondrá que la entrega tardía fue intencional y se utilizarán los días de gracia. La última versión en el repositorio es la que será evaluada."
   ]
  },
  {
   "cell_type": "markdown",
   "id": "50b52ac7",
   "metadata": {},
   "source": [
    "___"
   ]
  },
  {
   "cell_type": "markdown",
   "id": "a2c9c42c",
   "metadata": {},
   "source": [
    "## Objetivo"
   ]
  },
  {
   "cell_type": "markdown",
   "id": "6c2b2e2e",
   "metadata": {},
   "source": [
    "El objetivo de este trabajo es integrar datos de anuncios de compraventa/alquiler de Argentina, provenientes del sitio www.properati.com, con datos censales de población de los partidos de la provincia de Buenos Aires (del año 2010, ya que los del último censo no están todavía disponibles); para luego visualizarlos en mapas y gráficos. <br> \n",
    "Si les interesaría trabajar con otras provincias (en lugar de la provincia de Buenos Aires), **son bienvenidos a hacerlo**; pero, por simplicidad, las consignas se redactarán suponiendo que trabajan con partidos de la provincia de Buenos Aires.<br>"
   ]
  },
  {
   "cell_type": "markdown",
   "id": "fa04da1a",
   "metadata": {},
   "source": [
    "___"
   ]
  },
  {
   "cell_type": "markdown",
   "id": "d03c496a",
   "metadata": {},
   "source": [
    "## Datos"
   ]
  },
  {
   "cell_type": "markdown",
   "id": "0f5f7358",
   "metadata": {},
   "source": [
    "En este trabajo vamos a utilizar dos nuevos conjuntos de datos, llamémoslos `propiedades` y `población_censo2010`. Además, vamos a trabajar con datos georreferenciados de provincias y departamentos/partidos, con los que ya trabajamos en la clase sincrónica 5.\n",
    "\n",
    "#### `propiedades`\n",
    "Es un archivo tabular CSV comprimido (extensión `.csv.gz`) que se pueden bajar de este [link](https://drive.google.com/file/d/1quoz5gQ1lMHAHwH5Kp19Mxy1nlZ-kf-v/view?usp=sharing) y pesa 289MB. <br>Este archivo contiene una series de registros (filas), donde cada uno corresponde a una propiedad que está en compra/venta o en alquiler en un dado período.\n",
    "\n",
    "#### `población_censo2010`\n",
    "Usar el archivo `data/poblacion_PBA.xls` (ya está en el repositorio), que contiene la población para cada partido de la provincia de Buenos Aires. Si desean trabajar con otra provincia, pueden realizar la consulta correspondiente en https://www.indec.gob.ar/indec/web/Nivel4-Tema-2-41-135."
   ]
  },
  {
   "cell_type": "markdown",
   "id": "bee7742e",
   "metadata": {},
   "source": [
    "#### `departamentos_georef` y `provincias_georef`\n",
    "Estos archivos, ya conocidos de la clase 5, contienen los datos georreferenciados de los departamentos y provincias de Argentina.\n"
   ]
  },
  {
   "cell_type": "markdown",
   "id": "b21cbdd4",
   "metadata": {},
   "source": [
    "___"
   ]
  },
  {
   "cell_type": "markdown",
   "id": "1e41e7ba",
   "metadata": {},
   "source": [
    "## Consignas"
   ]
  },
  {
   "cell_type": "markdown",
   "id": "c41fedd2",
   "metadata": {},
   "source": [
    "### Ejercicio 1"
   ]
  },
  {
   "cell_type": "markdown",
   "id": "083c757d",
   "metadata": {},
   "source": [
    "1. a. **Cargar y procesar los datos de propiedades** <br>\n",
    "Leer los datos de propiedades (recordar que se trata de un CSV) en un `DataFrame` llamado `propiedades_df`. Notar que los datos están comprimidos (tiene extensión `.gz`). En lugar de descomprimir el archivo en el disco, usar el argumento `compression='gzip'` en la función de lectura.\n",
    "    - Examinar el número de filas y columnas del DataFrame resultante.\n",
    "    - Eliminar las columnas `id`, `ad_type`, `title`, `description`, `l1`, `l4`, `l5` y `l6`.\n",
    "    - Usar la columna adecuada para filtrar los registros correspondientes a la provincia de Buenos Aires (u otra provincia de Argentina o CABA si así lo desean). Para esto puede ser útil el método `unique` el cual les permitirá examinar los valores únicos correspondientes a una columna. También puede resultar útil el método `isin`. Examinar nuevamente el número de filas y columnas del DataFrame resultante.\n",
    "    - Filtrar los registros que tengan datos faltantes en las columnas de precio, superficie (total y cubierta), latitud y longitud. Para eso será util el método `dropna`, y para usarlo deben prestar atención a los argumentos `axis` y `subset`. Examinar nuevamente el número de filas y columnas del DataFrame resultante.    \n",
    "    - Guardar el DataFrame como csv. Esto es sólo por conveniencia, para que no tengan que leer el archivo original y preprocesarlo desde cero si necesitan reiniciar el kernel de Jupyter. En el futuro pueden leer directamente el archivo final. Como referencia, este archivo (para la provincia de Buenos Aires) debería pesar unos 23 MB. No hace falta que lo incluyan en la entrega del trabajo.\n",
    "\n",
    "    b. **Cargar los datos de población por partido.** <br>\n",
    "Deben cargar la información de población en un DataFrame usando Pandas, y producir un DataFrame final que contenga dos columnas: el nombre del partido y la población en 2010."
   ]
  },
  {
   "cell_type": "code",
   "execution_count": 2,
   "id": "1806ed3b",
   "metadata": {},
   "outputs": [],
   "source": [
    "import pandas as pd"
   ]
  },
  {
   "cell_type": "code",
   "execution_count": null,
   "id": "d578c5de",
   "metadata": {},
   "outputs": [],
   "source": [
    "cd \"C:\\Users\\ferma\\OneDrive\\Documentos\\UNLP-ME\\Python\\unlp-python-tp5\\\""
   ]
  },
  {
   "cell_type": "code",
   "execution_count": null,
   "id": "012a10a4",
   "metadata": {},
   "outputs": [],
   "source": [
    "#Cargar y procesar datos de propiedades\n",
    "propiedades_df = pd.read_csv(\"C:/Users/ferma/OneDrive/Documentos/UNLP-ME/Python/ar_properties.csv.gz\", compression=\"gzip\", header=0, sep=\",\", quotechar='\"')\n",
    "propiedades_df "
   ]
  },
  {
   "cell_type": "code",
   "execution_count": null,
   "id": "b0af1e6b",
   "metadata": {},
   "outputs": [],
   "source": [
    "#Examino número de filas y columnas\n",
    "propiedades_df.shape "
   ]
  },
  {
   "cell_type": "code",
   "execution_count": null,
   "id": "b3a312f4",
   "metadata": {},
   "outputs": [],
   "source": [
    "#Eliminar las columnas `id`, `ad_type`, `title`, `description`, `l1`, `l4`, `l5` y `l6`\n",
    "propiedades_df = propiedades_df.drop([\"id\", \"ad_type\", \"title\", \"description\", \"l1\", \"l4\", \"l5\", \"l6\"], axis=\"columns\") \n",
    "propiedades_df.shape"
   ]
  },
  {
   "cell_type": "code",
   "execution_count": null,
   "id": "39e2ebfa",
   "metadata": {},
   "outputs": [],
   "source": [
    "#Filtro los registros de la Provincia de Buenos Aires:\n",
    "#Primero, me fijo valores unicos de la variable \"l2\", que indica la provincia\n",
    "unique_l2 = propiedades_df[\"l2\"].unique()\n",
    "print(unique_l2)\n"
   ]
  },
  {
   "cell_type": "code",
   "execution_count": null,
   "id": "954df763",
   "metadata": {},
   "outputs": [],
   "source": [
    "#Me quedo con las observaciones donde la columna \"l2\" incluya la expresión \"Bs.As.\" o \"Buenos Aires\"\n",
    "import re\n",
    "filtro_bsas = propiedades_df[\"l2\"].str.contains(r\"Bs\\.As|Buenos Aires\", flags=re.IGNORECASE, regex=True)\n",
    "propiedades_df = propiedades_df[filtro_bsas]\n",
    "propiedades_df.shape"
   ]
  },
  {
   "cell_type": "code",
   "execution_count": null,
   "id": "a55785c4",
   "metadata": {},
   "outputs": [],
   "source": [
    "propiedades_df.head(10)"
   ]
  },
  {
   "cell_type": "code",
   "execution_count": null,
   "id": "088a2561",
   "metadata": {},
   "outputs": [],
   "source": [
    "#Corroboro los valores unicos de la variable nuevamente\n",
    "unique_l2 = propiedades_df[\"l2\"].unique()\n",
    "print(unique_l2)"
   ]
  },
  {
   "cell_type": "code",
   "execution_count": null,
   "id": "bb9f5ceb",
   "metadata": {},
   "outputs": [],
   "source": [
    "#Filtro observaciones con datos faltantes en las columnas de precio, superficie (total y cubierta), latitud y longitud. \n",
    "propiedades_df = propiedades_df.dropna(subset=[\"price\", \"surface_total\", \"surface_covered\", \"lat\", \"lon\"])\n",
    "propiedades_df.shape"
   ]
  },
  {
   "cell_type": "code",
   "execution_count": 69,
   "id": "196a6488",
   "metadata": {},
   "outputs": [],
   "source": [
    "#Guardar el DF resultante como csv. \n",
    "propiedades_df.to_csv(r\"output/propiedades_df.csv\", index=False)"
   ]
  },
  {
   "cell_type": "code",
   "execution_count": null,
   "id": "cc2d1136",
   "metadata": {},
   "outputs": [],
   "source": [
    "#Importo la base de población de PBA\n",
    "poblacion_PBA = pd.read_excel(\"data/poblacion_PBA.xls\")\n",
    "poblacion_PBA.shape"
   ]
  },
  {
   "cell_type": "code",
   "execution_count": null,
   "id": "2cb0f162",
   "metadata": {},
   "outputs": [],
   "source": [
    "poblacion_PBA"
   ]
  },
  {
   "cell_type": "markdown",
   "id": "23429456",
   "metadata": {},
   "source": [
    "### Ejercicio 2"
   ]
  },
  {
   "cell_type": "markdown",
   "id": "0034835e",
   "metadata": {},
   "source": [
    "2. **Convertir el DataFrame de Properati en GeoDataFrame. (13 pts)** <br>\n",
    "El DataFrame generado tiene dos columnas para las coordenadas de latitud y longitud del inmueble. En este ejercicio, lo convertiremos en un GeoDataFrame.\n",
    "- Utilizando el método `apply`,  generar una Series cuyo contenido sean puntos de `shapely` (es decir, objetos geométricos), cada uno construido a partir de la latitud y longitud del inmueble. Para eso, definir una función auxiliar llamada `generar_geometria`, que reciba una fila del DataFrame y devuelva un `Point` (prestar atención al orden de la longitud y la latitud). Agregar esta Series como una nueva columna llamada `geometry`. Eliminar las columnas de latitud y longitud.\n",
    "- Generar un GeoDataFrame a partir del DataFrame anterior. Esto se puede hacer llamando al constructor de GeoDataFrame usando el argumento `geometry` al que se le pasa el nombre de la columna que se va a usar como la geometría asociada a cada registro."
   ]
  },
  {
   "cell_type": "code",
   "execution_count": 72,
   "id": "153e96f1",
   "metadata": {},
   "outputs": [],
   "source": [
    "from shapely.geometry import Point\n",
    "import geopandas as gpd"
   ]
  },
  {
   "cell_type": "markdown",
   "id": "9c153ec4",
   "metadata": {},
   "source": [
    "Ejemplo de cómo inicializar un punto:"
   ]
  },
  {
   "cell_type": "code",
   "execution_count": null,
   "id": "3b65204e",
   "metadata": {},
   "outputs": [],
   "source": [
    "latitud, longitud = -34.93, -57.95\n",
    "la_plata = Point(longitud, latitud)\n",
    "la_plata"
   ]
  },
  {
   "cell_type": "code",
   "execution_count": null,
   "id": "0e2675d0",
   "metadata": {},
   "outputs": [],
   "source": [
    "#Defino una función auxiliar que devuelva un point, tomando los datos de latitud y longitud\n",
    "def generar_geometria(propiedades_df):\n",
    "    '''\n",
    "    \n",
    "    '''\n",
    "    \n",
    "    # Completar\n",
    "    return Point(propiedades_df[\"lon\"], propiedades_df[\"lat\"]) \n",
    "\n",
    "#Creo una nueva variable en el df, donde se crea este point\n",
    "propiedades_df[\"geometry\"] = propiedades_df.apply(generar_geometria, axis=1)\n",
    "propiedades_df.head(2)"
   ]
  },
  {
   "cell_type": "code",
   "execution_count": 75,
   "id": "d019040f",
   "metadata": {},
   "outputs": [],
   "source": [
    "#Elimino varaibles de latitud y longitud\n",
    "propiedades_df = propiedades_df.drop(columns=[\"lat\", \"lon\"])"
   ]
  },
  {
   "cell_type": "code",
   "execution_count": null,
   "id": "7ebc1333",
   "metadata": {},
   "outputs": [],
   "source": [
    "# Convierto a GeoDataFrame el df de propiedades\n",
    "propiedades_gdf = gpd.GeoDataFrame(propiedades_df, geometry=\"geometry\")\n",
    "propiedades_gdf.head(2)"
   ]
  },
  {
   "cell_type": "markdown",
   "id": "d41d72ed",
   "metadata": {},
   "source": [
    "### Ejercicio 3"
   ]
  },
  {
   "cell_type": "markdown",
   "id": "330c12bb",
   "metadata": {},
   "source": [
    "3. **Generar un GeoDataFrame con los partidos de Buenos Aires (7pts)**\n",
    "\n",
    "Usando Geopandas, cargar los shapefiles de departamentos/partidos y provincias en sendos geodataframes. Repetir el procedimiento seguido en la clase sincrónica 5 para asociar los departamentos/partidos a sus respectivas provincias. Filtrar el GeoDataFrame resultante de manera de quedarse con los registros correspondientes a sólo la provincia de Buenos Aires (o la provincia que hayan elegido). Llamarlo `partidos_bsas_gdf` o `departamentos_<provincia>_gdf`."
   ]
  },
  {
   "cell_type": "code",
   "execution_count": null,
   "id": "be0fc84e",
   "metadata": {},
   "outputs": [],
   "source": [
    "#Cargo shapefile de provincias \n",
    "provincias_gdf = gpd.read_file(filename=\"data/provincia.zip\")\n",
    "provincias_gdf.head()"
   ]
  },
  {
   "cell_type": "code",
   "execution_count": null,
   "id": "5f747cd6",
   "metadata": {},
   "outputs": [],
   "source": [
    "#Examino numero de filas y columnas\n",
    "provincias_gdf.shape"
   ]
  },
  {
   "cell_type": "code",
   "execution_count": null,
   "id": "90db4a64",
   "metadata": {},
   "outputs": [],
   "source": [
    "provincias_gdf = provincias_gdf[[\"nam\", \"geometry\"]]\n",
    "provincias_gdf"
   ]
  },
  {
   "cell_type": "code",
   "execution_count": 80,
   "id": "053495fd",
   "metadata": {},
   "outputs": [],
   "source": [
    "#Cargo shape file de departamentos\n",
    "departamentos_gdf = gpd.read_file(\"data/departamento.zip\")"
   ]
  },
  {
   "cell_type": "code",
   "execution_count": 81,
   "id": "2f1da05e",
   "metadata": {},
   "outputs": [],
   "source": [
    "# Extraemos las columnas de interés, objectid es un identificador único para cada departamento a nivel país \n",
    "departamentos_gdf = departamentos_gdf[[\"objectid\", \"nam\", \"geometry\"]]\n",
    "\n",
    "# Renombramos la columna que da el nombre del departamento\n",
    "departamentos_gdf = departamentos_gdf.rename({\"nam\": \"departamento\"}, axis=1)"
   ]
  },
  {
   "cell_type": "code",
   "execution_count": null,
   "id": "fad05f2c",
   "metadata": {},
   "outputs": [],
   "source": [
    "departamentos_gdf"
   ]
  },
  {
   "cell_type": "markdown",
   "id": "bc98fee0",
   "metadata": {},
   "source": [
    "**Problema**: El df no tiene el nombre de la provincia asociada a cada departamento. Se la infiere mediante relaciones espaciales. Se repite procedimiento de la clase 5"
   ]
  },
  {
   "cell_type": "code",
   "execution_count": 83,
   "id": "26039a69",
   "metadata": {},
   "outputs": [],
   "source": [
    "departamentos_punto_adentro_gdf = departamentos_gdf.copy()\n",
    "departamentos_punto_adentro_gdf[\"geometry\"] = departamentos_gdf.geometry.representative_point();"
   ]
  },
  {
   "cell_type": "code",
   "execution_count": null,
   "id": "892f7ccf",
   "metadata": {},
   "outputs": [],
   "source": [
    "departamentos_punto_adentro_gdf"
   ]
  },
  {
   "cell_type": "code",
   "execution_count": null,
   "id": "4810b743",
   "metadata": {},
   "outputs": [],
   "source": [
    "prov_dep_gdf = departamentos_punto_adentro_gdf.sjoin(provincias_gdf, predicate=\"within\")\n",
    "prov_dep_gdf"
   ]
  },
  {
   "cell_type": "code",
   "execution_count": 86,
   "id": "0b0fd042",
   "metadata": {},
   "outputs": [],
   "source": [
    "prov_dep_df = prov_dep_gdf[[\"objectid\", \"nam\"]]"
   ]
  },
  {
   "cell_type": "code",
   "execution_count": 87,
   "id": "8297988d",
   "metadata": {},
   "outputs": [],
   "source": [
    "departamentos_gdf = departamentos_gdf.merge(prov_dep_df, how=\"inner\", on=\"objectid\")"
   ]
  },
  {
   "cell_type": "code",
   "execution_count": 88,
   "id": "4aa98c63",
   "metadata": {},
   "outputs": [],
   "source": [
    "departamentos_gdf = departamentos_gdf.rename({\"nam_x\": \"nam\"}, axis=1)"
   ]
  },
  {
   "cell_type": "code",
   "execution_count": 89,
   "id": "3d1ca8ef",
   "metadata": {},
   "outputs": [],
   "source": [
    "provincias = set(departamentos_gdf.nam.to_list())"
   ]
  },
  {
   "cell_type": "code",
   "execution_count": null,
   "id": "53be90cf",
   "metadata": {},
   "outputs": [],
   "source": [
    "departamentos_gdf"
   ]
  },
  {
   "cell_type": "code",
   "execution_count": null,
   "id": "160c38ad",
   "metadata": {},
   "outputs": [],
   "source": [
    "# Filtro el gdf para tener los registros de provincia de Buenos Aires\n",
    "# Primero, me fijo los valores que toma la columna \"nam\", que indica la provincia\n",
    "unique_nam = departamentos_gdf[\"nam\"].unique()\n",
    "print(unique_nam)"
   ]
  },
  {
   "cell_type": "code",
   "execution_count": null,
   "id": "f082b810",
   "metadata": {},
   "outputs": [],
   "source": [
    "#Me quedo con las observaciones donde la columna \"nam\" sea \"Buenos Aires\"\n",
    "filtro_dep_bsas = departamentos_gdf[\"nam\"].str.match(r\"Buenos Aires\", flags=re.IGNORECASE)\n",
    "departamentos_bsas_gdf = departamentos_gdf[filtro_dep_bsas]\n",
    "departamentos_bsas_gdf.shape"
   ]
  },
  {
   "cell_type": "code",
   "execution_count": null,
   "id": "97351078",
   "metadata": {},
   "outputs": [],
   "source": [
    "departamentos_bsas_gdf"
   ]
  },
  {
   "cell_type": "markdown",
   "id": "25ea2966",
   "metadata": {},
   "source": [
    "### Ejercicio 4"
   ]
  },
  {
   "cell_type": "markdown",
   "id": "541b0b27",
   "metadata": {},
   "source": [
    "5. **Asociar inmuebles a sus respectivos partidos mediante información georreferenciada** <br>\n",
    "Notar que en el GeoDataFrame de Properati tenemos la columna `l3`, pero no es claro si esto representa una localidad o un partido. \n",
    "En este ejercicio, vamos a realizar un join espacial (`sjoin`) de `propiedades_gdf` con el `partidos_bsas_gdf` generado en el punto anterior. Luego, deben determinar para cuántos de los registros, la columna `l3` coincide con el nombre del partido proveniente de `partidos_bsas_gdf`. Dejar mencionado como comentario algunos casos que detecten en los que no coinciden estos valores. <br>\n",
    "Finalmente, descartar los departamentos con menos de 10 registros (recordar `groupby(...).filter` de la clase 4)."
   ]
  },
  {
   "cell_type": "code",
   "execution_count": null,
   "id": "597b7b50",
   "metadata": {},
   "outputs": [],
   "source": [
    "#Se realiza un join espacial y se crea un nuevo df con los datos de cada propiedad y su departamento correspondiente, identificando los inmuebles que se encuentran dentro de cada departamento con \"intersects\"\n",
    "prop_dep_bsas = departamentos_bsas_gdf.sjoin(propiedades_gdf, predicate=\"intersects\")\n",
    "prop_dep_bsas.sample(10)"
   ]
  },
  {
   "cell_type": "code",
   "execution_count": null,
   "id": "414ae82a",
   "metadata": {},
   "outputs": [],
   "source": [
    "prop_dep_bsas[\"l3\"].dtype"
   ]
  },
  {
   "cell_type": "code",
   "execution_count": null,
   "id": "9e2a3728",
   "metadata": {},
   "outputs": [],
   "source": [
    "prop_dep_bsas[\"departamento\"].dtype"
   ]
  },
  {
   "cell_type": "code",
   "execution_count": 97,
   "id": "86200eec",
   "metadata": {},
   "outputs": [],
   "source": [
    "#Creo una dummy que toma el valor 1 si la variables \"l3\" del df de propiedades y la varible \"departamento\" del df de departmantamentos son iguales\n",
    "prop_dep_bsas[\"match\"] = (prop_dep_bsas[\"l3\"] == prop_dep_bsas[\"departamento\"]).astype(int)"
   ]
  },
  {
   "cell_type": "code",
   "execution_count": null,
   "id": "8e5eff7d",
   "metadata": {},
   "outputs": [],
   "source": [
    "prop_dep_bsas.shape"
   ]
  },
  {
   "cell_type": "code",
   "execution_count": null,
   "id": "2617ce55",
   "metadata": {},
   "outputs": [],
   "source": [
    "#Hago la suma de la dummy \"match\"\n",
    "#El resultado es el número de observaciones donde match ==1, es decir que \"l3\" y \"departamento\" coinciden\n",
    "prop_dep_bsas[\"match\"].sum() "
   ]
  },
  {
   "cell_type": "code",
   "execution_count": null,
   "id": "6bfc9cc5",
   "metadata": {},
   "outputs": [],
   "source": [
    "# Veo una sample aleatoria de las observaciones donde las variables \"l3\" y \"departamento\" no coinciden\n",
    "prop_dep_bsas[prop_dep_bsas[\"match\"] == 0].sample(n=10) "
   ]
  },
  {
   "cell_type": "markdown",
   "id": "9a7ca001",
   "metadata": {},
   "source": [
    "Algunos casos observados: \n",
    "- \"departamento\" = San Nicolás & \"l3\" = San Nicolás de los Arroyos\n",
    "- \"departamento\" = José C. Paz & \"l3\" = José C Paz\n",
    "- \"departamento\" = General Pueyrredón & \"l3\" = Mar del Plata\n",
    "- \"departamento\" = La Costa & \"l3\" = Santa Teresita\n",
    "- \"departamento\" = La Costa & \"l3\" = San Bernardo"
   ]
  },
  {
   "cell_type": "code",
   "execution_count": 101,
   "id": "21036f58",
   "metadata": {},
   "outputs": [],
   "source": [
    "#Descarto los departamentos con menos de 10 registros\n",
    "#Para esto creo una variable que cuenta el numero de observaciones agrupando por departamentos\n",
    "prop_dep_bsas[\"freq_dep\"] = prop_dep_bsas.groupby(\"departamento\")[\"departamento\"].transform(\"count\")"
   ]
  },
  {
   "cell_type": "code",
   "execution_count": null,
   "id": "c0acb341",
   "metadata": {},
   "outputs": [],
   "source": [
    "#Me fijo el numero de filas actual \n",
    "prop_dep_bsas.shape"
   ]
  },
  {
   "cell_type": "code",
   "execution_count": null,
   "id": "767cb7aa",
   "metadata": {},
   "outputs": [],
   "source": [
    "# Mantengo solo las observaciones donde la variable \"freq_dep\" es mayor o igual a 10\n",
    "prop_dep_bsas.groupby(\"departamento\").filter(lambda x: x['freq_dep'].iloc[0] >= 10)"
   ]
  },
  {
   "cell_type": "code",
   "execution_count": null,
   "id": "0027bd3c",
   "metadata": {},
   "outputs": [],
   "source": [
    "#Me fijo el numero de filas luego de eliminar los departamentos con menos de 10 registros \n",
    "prop_dep_bsas.shape"
   ]
  },
  {
   "cell_type": "markdown",
   "id": "dd83cc7e",
   "metadata": {},
   "source": [
    "### Ejercicio 5"
   ]
  },
  {
   "cell_type": "markdown",
   "id": "acf44e4b",
   "metadata": {},
   "source": [
    "7. **Número de anuncios por partido, per cápita**. <br>\n",
    "Generar un mapa de la provincia de Buenos Aires, coloreando cada partido de acuerdo al número de registros normalizado por la población del mismo (en 2010). Utilizar un widget reactivo para visualizar el mapa de acuerdo al tipo de operación: venta, alquiler o alquiler temporal. _Se evaluará la presentación del mapa_.\n"
   ]
  },
  {
   "cell_type": "markdown",
   "id": "bfce04fa",
   "metadata": {},
   "source": [
    "Hago un merge del gdf `prop_dep_bsas` con `poblacion_PBA` "
   ]
  },
  {
   "cell_type": "code",
   "execution_count": 104,
   "id": "87f52b7b",
   "metadata": {},
   "outputs": [],
   "source": [
    "import ipywidgets as widgets \n",
    "from ipywidgets import interact\n",
    "from matplotlib import pyplot as plt"
   ]
  },
  {
   "cell_type": "code",
   "execution_count": null,
   "id": "8beaa4fc",
   "metadata": {},
   "outputs": [],
   "source": [
    "mapa_data2= prop_dep_bsas.merge(poblacion_PBA, right_on=\"partido\", left_on=\"departamento\", how=\"outer\")\n",
    "type(mapa_data2)"
   ]
  },
  {
   "cell_type": "code",
   "execution_count": null,
   "id": "308689cb",
   "metadata": {},
   "outputs": [],
   "source": [
    "mapa_data2.sample(5)"
   ]
  },
  {
   "cell_type": "markdown",
   "id": "39df4749",
   "metadata": {},
   "source": [
    "Creo variable de la cantidad de registros por departamento, normalizada por la población del mismo"
   ]
  },
  {
   "cell_type": "code",
   "execution_count": 107,
   "id": "caab1227",
   "metadata": {},
   "outputs": [],
   "source": [
    "# Creo una variable que indica cuantos registros hay por departamento. \n",
    "mapa_data2[\"freq_dep\"] = mapa_data2.groupby(\"departamento\")[\"departamento\"].transform(\"count\")\n",
    "# Divido la variable recien creada en la población de 2010 \n",
    "mapa_data2[\"reg_norm\"] = (mapa_data2[\"freq_dep\"]  / mapa_data2[\"poblacion_2010\"])"
   ]
  },
  {
   "cell_type": "markdown",
   "id": "0057206a",
   "metadata": {},
   "source": [
    "Mapa de la provincia de Buenos Aires que muestra la cantidad de registros por departamento (normalizada por la población), según tipo de operación. "
   ]
  },
  {
   "cell_type": "code",
   "execution_count": null,
   "id": "1a9751f3",
   "metadata": {},
   "outputs": [],
   "source": [
    "mapa_data2[\"operation_type\"] = mapa_data2[\"operation_type\"].astype(str)\n",
    "mapa_data2_w = widgets.Dropdown(options=sorted(mapa_data2[\"operation_type\"].unique()), description=\"Tipo de operación\")\n",
    "\n",
    "@interact(tipo=mapa_data2_w)\n",
    "def mostrar_deptos_por_operacion(tipo):\n",
    "\n",
    "    mapa_filtrado = mapa_data2[mapa_data2[\"operation_type\"] == tipo]\n",
    "\n",
    "    mapa_filtrado.plot(\n",
    "        column=\"reg_norm\",\n",
    "        cmap=\"Set3\",\n",
    "        figsize=(10, 10),\n",
    "        edgecolor=\"black\",\n",
    "        legend=True,\n",
    "        legend_kwds={\"label\": \"Cant. de registros (normalizado por la población)\", \"orientation\": \"horizontal\"}\n",
    "    )\n"
   ]
  }
 ],
 "metadata": {
  "kernelspec": {
   "display_name": "Python 3",
   "language": "python",
   "name": "python3"
  },
  "language_info": {
   "codemirror_mode": {
    "name": "ipython",
    "version": 3
   },
   "file_extension": ".py",
   "mimetype": "text/x-python",
   "name": "python",
   "nbconvert_exporter": "python",
   "pygments_lexer": "ipython3",
   "version": "3.12.7"
  }
 },
 "nbformat": 4,
 "nbformat_minor": 5
}
